{
 "cells": [
  {
   "cell_type": "code",
   "execution_count": 69,
   "id": "cfb11768",
   "metadata": {},
   "outputs": [],
   "source": [
    "from manim import *"
   ]
  },
  {
   "cell_type": "markdown",
   "id": "d247fb22",
   "metadata": {},
   "source": [
    "Manim is a module for creating a simulation and animation using some geometric forms  ,to start import the module by using all functions in this module."
   ]
  },
  {
   "cell_type": "markdown",
   "id": "00b00cc0",
   "metadata": {},
   "source": [
    "## 1- First I will show you how to create a red circle using manim"
   ]
  },
  {
   "cell_type": "code",
   "execution_count": null,
   "id": "1a0111b6",
   "metadata": {},
   "outputs": [],
   "source": [
    "%%manim -v WARNING -qm Circle_blue      \n",
    "class Circle_blue (Scene):\n",
    "    def construct(self):\n",
    "        blue_circle=Circle(color=RED, fill_opacity=0.9)\n",
    "        self.play(Create(blue_circle))"
   ]
  },
  {
   "cell_type": "markdown",
   "id": "9dec8215",
   "metadata": {},
   "source": [
    "- %% manim -v WARNING -qm 'title of you animation' = it's an crucial instruction for strating the creation of you're animation   \n",
    "- construct is a function very important to creat you're geometric form inside this function to can create any form you want but it's fundamental using this function bacause without it you can't create what you desire \n",
    "- Circle: it's the function that we use to create circle and you can discover all information about it in this link\n",
    "https://docs.manim.community/en/stable/reference/manim.mobject.geometry.Circle.html\n",
    "\n",
    "- play : it's the function that you can use to simulate you're form "
   ]
  },
  {
   "cell_type": "markdown",
   "id": "44318f22",
   "metadata": {},
   "source": [
    "## 2- Creating a Square"
   ]
  },
  {
   "cell_type": "code",
   "execution_count": null,
   "id": "9c59d13b",
   "metadata": {},
   "outputs": [],
   "source": [
    "%%manim -v WARNING -qm square\n",
    "class square(Scene):\n",
    "    def construct(self):\n",
    "        red_squre= Square(color=RED,fill_opacity=0.8)\n",
    "         #green_square = Square(color=GREEN, fill_opacity=0.8\n",
    "        self.play(Create(red_squre))"
   ]
  },
  {
   "cell_type": "markdown",
   "id": "7efaee63",
   "metadata": {},
   "source": [
    "- here nothing is changing except we want create a square \n",
    "Square :it's the function use it to create this form :https://docs.manim.community/en/stable/reference/manim.mobject.geometry.Square.html\n"
   ]
  },
  {
   "cell_type": "markdown",
   "id": "2516bfff",
   "metadata": {},
   "source": [
    "## 3-Transform a circle to a square "
   ]
  },
  {
   "cell_type": "code",
   "execution_count": 31,
   "id": "dd38cfe0",
   "metadata": {},
   "outputs": [
    {
     "name": "stderr",
     "output_type": "stream",
     "text": [
      "                                                                               \r"
     ]
    },
    {
     "data": {
      "text/html": [
       "<video src=\"media/jupyter/CircleToSquare@2022-02-20@18-32-58.mp4\" controls autoplay loop style=\"max-width: 60%;\"  >\n",
       "      Your browser does not support the <code>video</code> element.\n",
       "    </video>"
      ],
      "text/plain": [
       "<IPython.core.display.Video object>"
      ]
     },
     "metadata": {},
     "output_type": "display_data"
    }
   ],
   "source": [
    "\n",
    "\n",
    "%%manim -v WARNING -qm CircleToSquare\n",
    "\n",
    "class CircleToSquare(Scene):\n",
    "    def construct(self):\n",
    "        blue_circle = Circle(color=BLUE, fill_opacity=0.5)\n",
    "        green_square = Square(color=GREEN, fill_opacity=0.8)\n",
    "        self.play(Create(blue_circle))\n",
    "        \n",
    "        \n",
    "        self.play(Transform(blue_circle, green_square))\n",
    "        \n",
    "\n"
   ]
  },
  {
   "cell_type": "markdown",
   "id": "0e872638",
   "metadata": {},
   "source": [
    "For that we use a function called 'transform(circle,square)'== it's transform a circle to square"
   ]
  },
  {
   "cell_type": "markdown",
   "id": "7fbcdf94",
   "metadata": {},
   "source": [
    "## 4- transform squre to circle"
   ]
  },
  {
   "cell_type": "code",
   "execution_count": 74,
   "id": "fc461223",
   "metadata": {},
   "outputs": [
    {
     "name": "stderr",
     "output_type": "stream",
     "text": [
      "                                                                               \r"
     ]
    },
    {
     "data": {
      "text/html": [
       "<video src=\"media/jupyter/squaretocircle@2022-02-20@18-52-19.mp4\" controls autoplay loop style=\"max-width: 60%;\"  >\n",
       "      Your browser does not support the <code>video</code> element.\n",
       "    </video>"
      ],
      "text/plain": [
       "<IPython.core.display.Video object>"
      ]
     },
     "metadata": {},
     "output_type": "display_data"
    }
   ],
   "source": [
    "\n",
    "\n",
    "%%manim -v WARNING -qm squaretocircle\n",
    "class squaretocircle(Scene):\n",
    "    def construct(self):\n",
    "        circle=Circle(color=RED)\n",
    "        square=Square(color=GREEN)\n",
    "        self.play(Create(square))\n",
    "        \n",
    "        self.wait()\n",
    "       \n",
    "        self.play(Transform(square,circle))\n",
    "        \n",
    "        \n",
    "        \n",
    "        "
   ]
  }
 ],
 "metadata": {
  "kernelspec": {
   "display_name": "Python 3 (ipykernel)",
   "language": "python",
   "name": "python3"
  },
  "language_info": {
   "codemirror_mode": {
    "name": "ipython",
    "version": 3
   },
   "file_extension": ".py",
   "mimetype": "text/x-python",
   "name": "python",
   "nbconvert_exporter": "python",
   "pygments_lexer": "ipython3",
   "version": "3.8.12"
  }
 },
 "nbformat": 4,
 "nbformat_minor": 5
}
